{
 "cells": [
  {
   "cell_type": "code",
   "execution_count": 77,
   "metadata": {},
   "outputs": [],
   "source": [
    "import random"
   ]
  },
  {
   "cell_type": "code",
   "execution_count": 30,
   "metadata": {},
   "outputs": [],
   "source": [
    "f = open(\"happy_lyrics_scraped.txt\", \"r\")\n",
    "raw_happy_file = f.read()"
   ]
  },
  {
   "cell_type": "code",
   "execution_count": 31,
   "metadata": {},
   "outputs": [],
   "source": [
    "f = open(\"sad_lyrics_scraped.txt\", \"r\")\n",
    "raw_sad_file = f.read()"
   ]
  },
  {
   "cell_type": "code",
   "execution_count": 32,
   "metadata": {},
   "outputs": [],
   "source": [
    "raw_happy_list = raw_happy_file.split(\"###\")[1:]\n",
    "raw_sad_list = raw_sad_file.split(\"###\")[1:]"
   ]
  },
  {
   "cell_type": "code",
   "execution_count": 33,
   "metadata": {},
   "outputs": [],
   "source": [
    "happy_lyrics_list = [raw_happy_list[i*2+1] for i in range(int(len(raw_happy_list)/2))]\n",
    "sad_lyrics_list = [raw_sad_list[i*2+1] for i in range(int(len(raw_sad_list)/2))]"
   ]
  },
  {
   "cell_type": "code",
   "execution_count": 47,
   "metadata": {},
   "outputs": [],
   "source": [
    "happy_keywords = [\"dance\", \"dancing\", \"celebrate\", \"high\", \"flying\", \"yeah\", \"good\", \"music\", \"happy\", \"vibes\"]\n",
    "sad_keywords = [\"sad\", \"alone\", \"tears\", \"cry\", \"help\", \"dark\", \"sorry\", \"broken\", \"wish\", \"cold\"]"
   ]
  },
  {
   "cell_type": "code",
   "execution_count": 54,
   "metadata": {},
   "outputs": [],
   "source": [
    "target_list = [1 for i in range(len(happy_lyrics_list))] + [0 for i in range(len(sad_lyrics_list))]\n",
    "lyrics_list = happy_lyrics_list + sad_lyrics_list"
   ]
  },
  {
   "cell_type": "code",
   "execution_count": 70,
   "metadata": {},
   "outputs": [],
   "source": [
    "# basic cleaning\n",
    "for i in range(len(lyrics_list)):\n",
    "    lyrics_list[i] = lyrics_list[i].lower()\n",
    "    lyrics_list[i] = lyrics_list[i].replace('\\n',' ').strip(' ')"
   ]
  },
  {
   "cell_type": "code",
   "execution_count": 78,
   "metadata": {},
   "outputs": [],
   "source": [
    "predicted_list = []\n",
    "for lyrics in lyrics_list:\n",
    "    count_happy = 0\n",
    "    count_sad = 0\n",
    "    for word in happy_keywords:\n",
    "        count_happy += lyrics.count(word)\n",
    "    for word in sad_keywords:\n",
    "        count_sad += lyrics.count(word)\n",
    "    if count_happy > count_sad:\n",
    "        predicted_list.append(1)\n",
    "    elif count_sad > count_happy:\n",
    "        predicted_list.append(0)\n",
    "    else:\n",
    "        predicted_list.append(random.choice([0, 1]))"
   ]
  },
  {
   "cell_type": "code",
   "execution_count": 82,
   "metadata": {},
   "outputs": [],
   "source": [
    "accuracy = sum([1 if predicted_list[i] == target_list[i] else 0 for i in range(len(target_list))])/len(target_list)"
   ]
  },
  {
   "cell_type": "code",
   "execution_count": 83,
   "metadata": {},
   "outputs": [
    {
     "name": "stdout",
     "output_type": "stream",
     "text": [
      "0.7477477477477478\n"
     ]
    }
   ],
   "source": [
    "print(accuracy)"
   ]
  },
  {
   "cell_type": "code",
   "execution_count": null,
   "metadata": {},
   "outputs": [],
   "source": []
  }
 ],
 "metadata": {
  "kernelspec": {
   "display_name": "Python 3",
   "language": "python",
   "name": "python3"
  },
  "language_info": {
   "codemirror_mode": {
    "name": "ipython",
    "version": 3
   },
   "file_extension": ".py",
   "mimetype": "text/x-python",
   "name": "python",
   "nbconvert_exporter": "python",
   "pygments_lexer": "ipython3",
   "version": "3.7.4"
  }
 },
 "nbformat": 4,
 "nbformat_minor": 2
}
