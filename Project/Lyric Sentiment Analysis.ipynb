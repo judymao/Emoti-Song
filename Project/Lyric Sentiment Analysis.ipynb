{
 "cells": [
  {
   "cell_type": "code",
   "execution_count": 1,
   "metadata": {},
   "outputs": [
    {
     "name": "stderr",
     "output_type": "stream",
     "text": [
      ".vector_cache\\glove.6B.zip: 862MB [26:32, 541kB/s]                                                                     \n",
      "100%|██████████████████████████████████████████████████████████████████████▉| 399999/400000 [00:19<00:00, 20599.83it/s]\n"
     ]
    }
   ],
   "source": [
    "import torch\n",
    "import torchtext\n",
    "\n",
    "# The first time you run this will download a ~823MB file\n",
    "glove = torchtext.vocab.GloVe(name=\"6B\", # trained on Wikipedia 2014 corpus\n",
    "                              dim=50)   # embedding size = 50"
   ]
  },
  {
   "cell_type": "code",
   "execution_count": 25,
   "metadata": {},
   "outputs": [],
   "source": [
    "#All Imports\n",
    "import torchtext\n",
    "import pandas as pd\n",
    "import torch\n",
    "import torch.nn as nn\n",
    "import matplotlib.pyplot as plt\n",
    "import numpy as np"
   ]
  },
  {
   "cell_type": "code",
   "execution_count": 26,
   "metadata": {},
   "outputs": [],
   "source": [
    "def read_files():    \n",
    "    f = open(\"happy_lyrics_scraped.txt\", \"r\")\n",
    "    raw_happy_file = f.read()\n",
    "    f = open(\"sad_lyrics_scraped.txt\", \"r\")\n",
    "    raw_sad_file = f.read()\n",
    "    return raw_happy_file, raw_sad_file\n",
    "\n",
    "def process_raw(raw_happy_file, raw_sad_file):\n",
    "    #split song titles\n",
    "    raw_happy_list = raw_happy_file.split(\"###\")[1:]\n",
    "    raw_sad_list = raw_sad_file.split(\"###\")[1:]\n",
    "    \n",
    "    #just get the lyrics\n",
    "    happy_lyrics_list = [raw_happy_list[i*2+1] for i in range(int(len(raw_happy_list)/2))]\n",
    "    sad_lyrics_list = [raw_sad_list[i*2+1] for i in range(int(len(raw_sad_list)/2))]\n",
    "    target_list = [1 for i in range(len(happy_lyrics_list))] + [0 for i in range(len(sad_lyrics_list))]\n",
    "    lyrics_list = happy_lyrics_list + sad_lyrics_list\n",
    "    for i in range(len(lyrics_list)):\n",
    "        lyrics_list[i] = lyrics_list[i].lower()\n",
    "        lyrics_list[i] = lyrics_list[i].replace('\\n',' ').strip(' ')\n",
    "    return target_list, lyrics_list\n",
    "\n"
   ]
  },
  {
   "cell_type": "code",
   "execution_count": 27,
   "metadata": {},
   "outputs": [],
   "source": [
    "#Read and Preliminary Processing\n",
    "raw_happy_file, raw_side_file= read_files()\n",
    "target_list, lyrics_list=process_raw(raw_happy_file, raw_side_file)"
   ]
  },
  {
   "cell_type": "code",
   "execution_count": 28,
   "metadata": {},
   "outputs": [],
   "source": [
    "#Create a dataframe from processed data\n",
    "data_tuples=list(zip(lyrics_list,target_list))\n",
    "df=pd.DataFrame(data_tuples, columns=['Lyrics','Target'])"
   ]
  },
  {
   "cell_type": "code",
   "execution_count": 29,
   "metadata": {},
   "outputs": [],
   "source": [
    "#Set Fields\n",
    "\n",
    "text_field = torchtext.data.Field(sequential=True,      # text sequence\n",
    "                                  include_lengths=True, # to track the length of sequences, for batching\n",
    "                                  batch_first=True,\n",
    "                                  use_vocab=True)       # to turn each character into an integer index\n",
    "\n",
    "label_field = torchtext.data.Field(sequential=False,    # not a sequence\n",
    "                                   use_vocab=False,     # don't need to track vocabulary\n",
    "                                   is_target=True,      \n",
    "                                   batch_first=True)"
   ]
  },
  {
   "cell_type": "code",
   "execution_count": 30,
   "metadata": {},
   "outputs": [
    {
     "name": "stdout",
     "output_type": "stream",
     "text": [
      "0      [i, thought, love, was, only, true, in, fairy,...\n",
      "1      [you, know, i, like, my, chicken, fried, and, ...\n",
      "2      [baby, why, don't, we, just, turn, that, tv, o...\n",
      "3      [i, got, rice, cookin', in, the, microwave, go...\n",
      "4      [jeremiah, was, a, bull, frog, was, a, good, f...\n",
      "                             ...                        \n",
      "106    [there, goes, my, heart, beating, cause, you, ...\n",
      "107    [notice, me, take, my, hand, why, are, we, str...\n",
      "108    [hear, that, lonesome, whippoorwill, he, sound...\n",
      "109    [i, took, the, supermarket, flowers, from, the...\n",
      "110    [all, around, me, are, familiar, faces, worn, ...\n",
      "Name: Lyrics, Length: 111, dtype: object\n"
     ]
    }
   ],
   "source": [
    "#Process the lyrics using field\n",
    "preprocess_lyrics=df['Lyrics'].apply(lambda x:text_field.preprocess(x))\n",
    "print(preprocess_lyrics)"
   ]
  },
  {
   "cell_type": "code",
   "execution_count": 62,
   "metadata": {},
   "outputs": [
    {
     "name": "stderr",
     "output_type": "stream",
     "text": [
      "100%|██████████████████████████████████████████████████████████████████████▉| 399999/400000 [00:27<00:00, 14423.81it/s]\n"
     ]
    }
   ],
   "source": [
    "#Build Vocab with preprocessed lyrics\n",
    "#problem here...\n",
    "text_field.build_vocab(preprocess_lyrics, vectors=\"glove.6B.100d\")\n",
    "vocab=text_field.vocab"
   ]
  },
  {
   "cell_type": "code",
   "execution_count": 75,
   "metadata": {},
   "outputs": [
    {
     "name": "stdout",
     "output_type": "stream",
     "text": [
      "3221\n"
     ]
    }
   ],
   "source": [
    "vocab.vectors.shape\n",
    "print(len(vocab))"
   ]
  },
  {
   "cell_type": "code",
   "execution_count": 63,
   "metadata": {},
   "outputs": [],
   "source": [
    "#Want to convert dataframe to dataset\n",
    "from torchtext.data import Dataset, Example\n",
    "\n",
    "class DataFrameDataset(Dataset):\n",
    "    def __init__(self, df: pd.DataFrame, fields: list):\n",
    "        super(DataFrameDataset, self).__init__(\n",
    "            [\n",
    "                Example.fromlist(list(r), fields) \n",
    "                for i, r in df.iterrows()\n",
    "            ], \n",
    "            fields\n",
    "        )"
   ]
  },
  {
   "cell_type": "code",
   "execution_count": 64,
   "metadata": {},
   "outputs": [
    {
     "name": "stdout",
     "output_type": "stream",
     "text": [
      "length of train, val, test is: 67 22 22\n"
     ]
    }
   ],
   "source": [
    "#Create a dataset from dataframe and split it in train, valid, test\n",
    "fields = [('Lyrics', text_field),('Target', label_field)]\n",
    "working_dataset= DataFrameDataset(df,fields)\n",
    "train, valid, test= working_dataset.split([0.6,0.2,0.2])\n",
    "print(\"length of train, val, test is:\", len(train), len(valid), len(test))"
   ]
  },
  {
   "cell_type": "code",
   "execution_count": 65,
   "metadata": {},
   "outputs": [],
   "source": [
    "#RNN Set Up\n",
    "class RNN(nn.Module):\n",
    "    def __init__(self, input_size, hidden_size, num_classes):\n",
    "        super(RNN, self).__init__()\n",
    "        self.name=\"PleaseWork\"\n",
    "        self.emb = nn.Embedding(len(vocab), num_input)\n",
    "        self.emb.weight.data.copy_(vocab.vectors)\n",
    "        self.hidden_size = hidden_size\n",
    "        self.rnn = nn.RNN(input_size, hidden_size, batch_first=True)\n",
    "        self.fc = nn.Linear(hidden_size, num_classes)\n",
    "    \n",
    "    def forward(self, x):\n",
    "        # Look up the embedding\n",
    "        x = self.emb(x)\n",
    "        \n",
    "        # Set an initial hidden state\n",
    "        h0 = torch.zeros(1, x.size(0), self.hidden_size)\n",
    "        # Forward propagate the RNN\n",
    "     \n",
    "        out, _ = self.rnn(x, h0)\n",
    "        # Pass the output of the last time step to the classifier\n",
    "        out=self.fc(out[:, -1, :])\n",
    "        return out\n"
   ]
  },
  {
   "cell_type": "code",
   "execution_count": 66,
   "metadata": {},
   "outputs": [],
   "source": [
    "#Train Network\n",
    "def train_rnn_network(model, train, valid, num_epochs=5, learning_rate=1e-5,batch_size=32):\n",
    "    criterion = nn.CrossEntropyLoss()\n",
    "    optimizer = torch.optim.Adam(model.parameters(), lr=learning_rate)\n",
    "    losses, train_acc, valid_acc = [], [], []\n",
    "    epochs = []\n",
    "    for epoch in range(num_epochs):\n",
    "        for batch in train:\n",
    "            if (0 not in batch.Lyrics[1]):\n",
    "                optimizer.zero_grad()\n",
    "                pred = model(batch.Lyrics[0])\n",
    "\n",
    "                loss = criterion(pred, batch.Target)\n",
    "                loss.backward()\n",
    "                optimizer.step()\n",
    "        losses.append(float(loss))\n",
    "\n",
    "        epochs.append(epoch)\n",
    "        train_acc.append(get_accuracy(model, train))\n",
    "        valid_acc.append(get_accuracy(model, valid))\n",
    "        print(\"Epoch %d; Loss %f; Train Acc %f; Val Acc %f\" % (\n",
    "              epoch+1, loss, train_acc[-1], valid_acc[-1]))\n",
    "    # plotting\n",
    "    plt.title(\"Training Curve\")\n",
    "    plt.plot(losses, label=\"Train\")\n",
    "    plt.xlabel(\"Epoch\")\n",
    "    plt.ylabel(\"Loss\")\n",
    "    plt.show()\n",
    "\n",
    "    plt.title(\"Training Curve\")\n",
    "    plt.plot(epochs, train_acc, label=\"Train\")\n",
    "    plt.plot(epochs, valid_acc, label=\"Validation\")\n",
    "    plt.xlabel(\"Epoch\")\n",
    "    plt.ylabel(\"Accuracy\")\n",
    "    plt.legend(loc='best')\n",
    "    plt.show()\n",
    "\n",
    "    #Saving\n",
    "    model_path = get_model_name(model.name, batch_size, learning_rate, epoch)\n",
    "    torch.save(model.state_dict(), model_path)\n",
    "\n",
    "    np.savetxt(\"{}_train_acc.csv\".format(model_path), train_acc)\n",
    "    np.savetxt(\"{}_train_loss.csv\".format(model_path), losses)\n",
    "    np.savetxt(\"{}_val_acc.csv\".format(model_path), valid_acc)"
   ]
  },
  {
   "cell_type": "code",
   "execution_count": 67,
   "metadata": {},
   "outputs": [],
   "source": [
    "#Get Accuracy\n",
    "def get_accuracy(model, data):\n",
    "    \"\"\" Compute the accuracy of the `model` across a dataset `data`\n",
    "\n",
    "    Example usage:\n",
    "    \n",
    "    >>> model = MyRNN() # to be defined\n",
    "    >>> get_accuracy(model, valid) # the variable `valid` is from above   \"\"\"\n",
    "\n",
    "    correct, total = 0, 0\n",
    "    for batch in data:\n",
    "        if 0 not in batch.Lyrics[1]:\n",
    "            output = model(batch.Lyrics[0])\n",
    "            pred = output.max(1, keepdim=True)[1]\n",
    "            correct += pred.eq(batch.Target.view_as(pred)).sum().item()\n",
    "            total += len(batch.Target)\n",
    "\n",
    "    return correct / total"
   ]
  },
  {
   "cell_type": "code",
   "execution_count": 68,
   "metadata": {},
   "outputs": [],
   "source": [
    "def get_model_name(name, batch_size, learning_rate, epoch):\n",
    "    \"\"\" Generate a name for the model consisting of all the hyperparameter values\n",
    "\n",
    "    Args:\n",
    "        config: Configuration object containing the hyperparameters\n",
    "    Returns:\n",
    "        path: A string with the hyperparameter name and value concatenated\n",
    "    \"\"\"\n",
    "    path = \"model_{0}_bs{1}_lr{2}_epoch{3}\".format(name,\n",
    "                                                   batch_size,\n",
    "                                                   learning_rate,\n",
    "                                                   epoch)\n",
    "    return path"
   ]
  },
  {
   "cell_type": "code",
   "execution_count": 69,
   "metadata": {},
   "outputs": [],
   "source": [
    "#Set the iterators\n",
    "batch_size=1\n",
    "train_iter = torchtext.data.BucketIterator(train,\n",
    "                                           batch_size=batch_size)\n",
    "valid_iter = torchtext.data.BucketIterator(valid,\n",
    "                                           batch_size=batch_size)\n",
    "test_iter =torchtext.data.BucketIterator(test, batch_size=batch_size)"
   ]
  },
  {
   "cell_type": "code",
   "execution_count": 71,
   "metadata": {},
   "outputs": [
    {
     "name": "stdout",
     "output_type": "stream",
     "text": [
      "Epoch 1; Loss 0.818499; Train Acc 0.537313; Val Acc 0.545455\n",
      "Epoch 2; Loss 0.978039; Train Acc 0.567164; Val Acc 0.545455\n",
      "Epoch 3; Loss 0.557292; Train Acc 0.611940; Val Acc 0.409091\n",
      "Epoch 4; Loss 0.543611; Train Acc 0.701493; Val Acc 0.409091\n",
      "Epoch 5; Loss 0.769429; Train Acc 0.761194; Val Acc 0.409091\n",
      "Epoch 6; Loss 0.671042; Train Acc 0.805970; Val Acc 0.409091\n",
      "Epoch 7; Loss 0.649105; Train Acc 0.805970; Val Acc 0.500000\n",
      "Epoch 8; Loss 0.588604; Train Acc 0.835821; Val Acc 0.454545\n",
      "Epoch 9; Loss 0.601551; Train Acc 0.850746; Val Acc 0.454545\n",
      "Epoch 10; Loss 0.252649; Train Acc 0.820896; Val Acc 0.454545\n",
      "Epoch 11; Loss 0.489028; Train Acc 0.880597; Val Acc 0.454545\n",
      "Epoch 12; Loss 0.225809; Train Acc 0.880597; Val Acc 0.454545\n",
      "Epoch 13; Loss 0.261308; Train Acc 0.910448; Val Acc 0.454545\n",
      "Epoch 14; Loss 0.558002; Train Acc 0.910448; Val Acc 0.454545\n",
      "Epoch 15; Loss 0.497868; Train Acc 0.925373; Val Acc 0.500000\n",
      "Epoch 16; Loss 0.324416; Train Acc 0.925373; Val Acc 0.454545\n",
      "Epoch 17; Loss 0.720373; Train Acc 0.925373; Val Acc 0.454545\n",
      "Epoch 18; Loss 0.850294; Train Acc 0.955224; Val Acc 0.454545\n",
      "Epoch 19; Loss 0.169066; Train Acc 0.955224; Val Acc 0.545455\n",
      "Epoch 20; Loss 0.296241; Train Acc 0.970149; Val Acc 0.545455\n",
      "Epoch 21; Loss 0.541787; Train Acc 0.970149; Val Acc 0.500000\n",
      "Epoch 22; Loss 0.349610; Train Acc 0.985075; Val Acc 0.500000\n",
      "Epoch 23; Loss 0.217014; Train Acc 1.000000; Val Acc 0.545455\n",
      "Epoch 24; Loss 0.618081; Train Acc 1.000000; Val Acc 0.500000\n",
      "Epoch 25; Loss 0.076726; Train Acc 1.000000; Val Acc 0.500000\n",
      "Epoch 26; Loss 0.299520; Train Acc 1.000000; Val Acc 0.500000\n",
      "Epoch 27; Loss 0.416351; Train Acc 1.000000; Val Acc 0.545455\n",
      "Epoch 28; Loss 0.244321; Train Acc 1.000000; Val Acc 0.590909\n",
      "Epoch 29; Loss 0.282181; Train Acc 1.000000; Val Acc 0.636364\n",
      "Epoch 30; Loss 0.043217; Train Acc 1.000000; Val Acc 0.590909\n"
     ]
    },
    {
     "data": {
      "image/png": "[encoded data removed]",
      "text/plain": [
       "<Figure size 432x288 with 1 Axes>"
      ]
     },
     "metadata": {
      "needs_background": "light"
     },
     "output_type": "display_data"
    },
    {
     "data": {
      "image/png": "[encoded data removed]",
      "text/plain": [
       "<Figure size 432x288 with 1 Axes>"
      ]
     },
     "metadata": {
      "needs_background": "light"
     },
     "output_type": "display_data"
    }
   ],
   "source": [
    "num_input=100\n",
    "\n",
    "model = RNN(num_input, 50, 2)\n",
    "train_rnn_network(model, train_iter, valid_iter, num_epochs=30, learning_rate=1e-4,batch_size=batch_size)"
   ]
  },
  {
   "cell_type": "code",
   "execution_count": null,
   "metadata": {},
   "outputs": [],
   "source": []
  },
  {
   "cell_type": "code",
   "execution_count": null,
   "metadata": {},
   "outputs": [],
   "source": []
  }
 ],
 "metadata": {
  "kernelspec": {
   "display_name": "Python 3",
   "language": "python",
   "name": "python3"
  },
  "language_info": {
   "codemirror_mode": {
    "name": "ipython",
    "version": 3
   },
   "file_extension": ".py",
   "mimetype": "text/x-python",
   "name": "python",
   "nbconvert_exporter": "python",
   "pygments_lexer": "ipython3",
   "version": "3.6.10"
  }
 },
 "nbformat": 4,
 "nbformat_minor": 4
}
